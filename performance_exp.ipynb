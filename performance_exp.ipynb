{
 "cells": [
  {
   "cell_type": "code",
   "execution_count": 1,
   "metadata": {},
   "outputs": [],
   "source": [
    "import numpy as np\n",
    "import pandas as pd\n",
    "from pathlib import Path\n",
    "from multiprocessing import Pool\n",
    "from collections import namedtuple\n",
    "from functools import partial\n"
   ]
  },
  {
   "cell_type": "code",
   "execution_count": 6,
   "metadata": {},
   "outputs": [],
   "source": [
    "ACC_G = 9.81\n",
    "def load_data(data_path):\n",
    "    df = pd.read_csv(data_path)\n",
    "    data = {\n",
    "      'roll_lataccel': np.sin(df['roll'].to_numpy()) * ACC_G,\n",
    "      'v_ego': df['vEgo'].to_numpy(),\n",
    "      'a_ego': df['aEgo'].to_numpy(),\n",
    "      'target_lataccel': df['targetLateralAcceleration'].to_numpy(),\n",
    "      'steer_command': -df['steerCommand'].to_numpy()  # steer commands are logged with left-positive convention but this simulator uses right-positive\n",
    "    }\n",
    "    return data\n",
    "\n",
    "def load_test(file_path, num_segs=5000, processes=1):\n",
    "    data_path = Path(file_path)\n",
    "    if data_path.is_file():\n",
    "        data = load_data(str(data_path))\n",
    "    elif data_path.is_dir():\n",
    "        files = sorted(data_path.iterdir())[:num_segs]\n",
    "        if processes <= 1:\n",
    "            data = list(map(load_data, [str(file) for file in files]))\n",
    "        else:\n",
    "            with Pool(processes) as p:\n",
    "                data = p.map(load_data, [str(file) for file in files])\n",
    "\n",
    "    return data"
   ]
  },
  {
   "cell_type": "code",
   "execution_count": 42,
   "metadata": {},
   "outputs": [],
   "source": [
    "State = namedtuple('State', ['roll_lataccel', 'v_ego', 'a_ego'])\n",
    "FuturePlan = namedtuple('FuturePlan', ['lataccel', 'roll_lataccel', 'v_ego', 'a_ego'])\n",
    "FUTURE_PLAN_STEPS = 50\n",
    "\n",
    "def get_state_target_futureplan(d):\n",
    "\n",
    "    return [(\n",
    "        State(roll_lataccel=d['roll_lataccel'][step_idx], v_ego=d['v_ego'][step_idx], a_ego=d['a_ego'][step_idx]),\n",
    "        d['target_lataccel'][step_idx],\n",
    "        FuturePlan(\n",
    "        lataccel=d['target_lataccel'][step_idx + 1:step_idx + FUTURE_PLAN_STEPS],\n",
    "        roll_lataccel=d['roll_lataccel'][step_idx + 1:step_idx + FUTURE_PLAN_STEPS],\n",
    "        v_ego=d['v_ego'][step_idx + 1:step_idx + FUTURE_PLAN_STEPS],\n",
    "        a_ego=d['a_ego'][step_idx + 1:step_idx + FUTURE_PLAN_STEPS]\n",
    "        )\n",
    "    ) for step_idx in range(100)]\n",
    "\n",
    "def get_state_test(data, processes=1):\n",
    "    if processes <= 1:\n",
    "        data = list(map(get_state_target_futureplan, data))\n",
    "    else:\n",
    "        with Pool(processes) as p:\n",
    "            data = p.map(get_state_target_futureplan, data)\n",
    "    return data"
   ]
  },
  {
   "cell_type": "code",
   "execution_count": 36,
   "metadata": {},
   "outputs": [],
   "source": [
    "file_path_single = './data/00000.csv'\n",
    "file_path_multi = './data'"
   ]
  },
  {
   "cell_type": "code",
   "execution_count": 37,
   "metadata": {},
   "outputs": [],
   "source": [
    "data = load_test(file_path_multi, num_segs=5000)"
   ]
  },
  {
   "cell_type": "code",
   "execution_count": 2,
   "metadata": {},
   "outputs": [],
   "source": [
    "rng = np.random.default_rng()\n",
    "probs = np.random.rand(512, 1024)\n",
    "probs /= probs.sum(axis=1, keepdims=True)"
   ]
  },
  {
   "cell_type": "code",
   "execution_count": 3,
   "metadata": {},
   "outputs": [
    {
     "name": "stdout",
     "output_type": "stream",
     "text": [
      "9.03 ms ± 161 μs per loop (mean ± std. dev. of 7 runs, 100 loops each)\n"
     ]
    }
   ],
   "source": [
    "%timeit [rng.choice(1024, p = probs[i]) for i in range(512)]"
   ]
  },
  {
   "cell_type": "code",
   "execution_count": 6,
   "metadata": {},
   "outputs": [
    {
     "name": "stdout",
     "output_type": "stream",
     "text": [
      "1.98 ms ± 105 μs per loop (mean ± std. dev. of 7 runs, 100 loops each)\n"
     ]
    }
   ],
   "source": [
    "%timeit (probs.cumsum(axis=1) > np.random.rand(probs.shape[0])[:,None]).argmax(axis=1)"
   ]
  },
  {
   "cell_type": "code",
   "execution_count": 11,
   "metadata": {},
   "outputs": [
    {
     "data": {
      "text/plain": [
       "tensor([-1.0235, -1.0810])"
      ]
     },
     "execution_count": 11,
     "metadata": {},
     "output_type": "execute_result"
    }
   ],
   "source": [
    "from torch.distributions import Normal\n",
    "import torch\n",
    "\n",
    "dist = Normal(torch.tensor([0, 0.]), 1)\n",
    "sample = dist.sample()\n",
    "dist.log_prob(sample)"
   ]
  },
  {
   "cell_type": "code",
   "execution_count": 46,
   "metadata": {},
   "outputs": [
    {
     "data": {
      "text/plain": [
       "array([[ 1.,  1., -1.],\n",
       "       [ 1., -1.,  1.]])"
      ]
     },
     "execution_count": 46,
     "metadata": {},
     "output_type": "execute_result"
    }
   ],
   "source": [
    "a = np.ones((2, 3))\n",
    "a[0, 2] = -0.1\n",
    "a[1, 1] = -0.1\n",
    "a[a < 0] = -1\n",
    "a"
   ]
  },
  {
   "cell_type": "code",
   "execution_count": 82,
   "metadata": {},
   "outputs": [
    {
     "data": {
      "text/plain": [
       "(4, 2)"
      ]
     },
     "execution_count": 82,
     "metadata": {},
     "output_type": "execute_result"
    }
   ],
   "source": [
    "a = np.ones((4, 3, 2))\n",
    "b = np.zeros((4, 2))\n",
    "a[:, -1]"
   ]
  },
  {
   "cell_type": "code",
   "execution_count": 78,
   "metadata": {},
   "outputs": [
    {
     "data": {
      "text/plain": [
       "array([[[0., 0., 0., 1., 0.]],\n",
       "\n",
       "       [[0., 0., 0., 1., 1.]],\n",
       "\n",
       "       [[0., 0., 0., 1., 2.]],\n",
       "\n",
       "       [[0., 0., 0., 1., 3.]]])"
      ]
     },
     "execution_count": 78,
     "metadata": {},
     "output_type": "execute_result"
    }
   ],
   "source": [
    "d[:, None][:, :, -1] = np.array([0,1,2,3])[:, np.newaxis]\n",
    "d[:, None]"
   ]
  },
  {
   "cell_type": "code",
   "execution_count": 1,
   "metadata": {},
   "outputs": [
    {
     "data": {
      "text/plain": [
       "[0, 0, 0, 0, 0, 0, 0, 0, 0, 0]"
      ]
     },
     "execution_count": 1,
     "metadata": {},
     "output_type": "execute_result"
    }
   ],
   "source": [
    "[0] * 10"
   ]
  }
 ],
 "metadata": {
  "kernelspec": {
   "display_name": "venv",
   "language": "python",
   "name": "python3"
  },
  "language_info": {
   "codemirror_mode": {
    "name": "ipython",
    "version": 3
   },
   "file_extension": ".py",
   "mimetype": "text/x-python",
   "name": "python",
   "nbconvert_exporter": "python",
   "pygments_lexer": "ipython3",
   "version": "3.10.12"
  }
 },
 "nbformat": 4,
 "nbformat_minor": 2
}
