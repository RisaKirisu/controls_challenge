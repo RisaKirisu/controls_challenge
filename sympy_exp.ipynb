{
 "cells": [
  {
   "cell_type": "code",
   "execution_count": 1,
   "metadata": {},
   "outputs": [],
   "source": [
    "import sympy as sp"
   ]
  },
  {
   "cell_type": "code",
   "execution_count": 3,
   "metadata": {},
   "outputs": [],
   "source": [
    "alpha = 1.2\n",
    "x_0 = 0.1\n",
    "r = [0.3, 0.35, 0.36]\n",
    "W = [1, 0.7, 0.7]"
   ]
  },
  {
   "cell_type": "code",
   "execution_count": 4,
   "metadata": {},
   "outputs": [],
   "source": [
    "# Define symbolic variables\n",
    "m = 3  # Number of variables (you can change this)\n",
    "u = sp.Matrix(sp.symbols(f'u1:{m+1}'))  # Creates a column vector [u1, u2, u3]\n",
    "x = sp.symbols(f'x1:{m+1}')  # Creates symbols x1, x2, x3\n",
    "lower_alpha = (alpha * sp.ones(3)).lower_triangular()\n",
    "x_0 = sp.Matrix([x_0] * m)\n",
    "r = sp.Matrix(r)"
   ]
  },
  {
   "cell_type": "code",
   "execution_count": 5,
   "metadata": {},
   "outputs": [],
   "source": [
    "x_u = x_0 + lower_alpha * u\n",
    "Ld = sum(W[i] * (r[i] - x_u[i]) ** 2 for i in range(m))"
   ]
  },
  {
   "cell_type": "code",
   "execution_count": 6,
   "metadata": {},
   "outputs": [
    {
     "data": {
      "text/latex": [
       "$\\displaystyle \\left[\\begin{matrix}6.912 u_{1} + 4.032 u_{2} + 2.016 u_{3} - 1.3368\\\\4.032 u_{1} + 4.032 u_{2} + 2.016 u_{3} - 0.8568\\\\2.016 u_{1} + 2.016 u_{2} + 2.016 u_{3} - 0.4368\\end{matrix}\\right]$"
      ],
      "text/plain": [
       "Matrix([\n",
       "[6.912*u1 + 4.032*u2 + 2.016*u3 - 1.3368],\n",
       "[4.032*u1 + 4.032*u2 + 2.016*u3 - 0.8568],\n",
       "[2.016*u1 + 2.016*u2 + 2.016*u3 - 0.4368]])"
      ]
     },
     "execution_count": 6,
     "metadata": {},
     "output_type": "execute_result"
    }
   ],
   "source": [
    "Ld.diff(u)"
   ]
  },
  {
   "cell_type": "code",
   "execution_count": 7,
   "metadata": {},
   "outputs": [
    {
     "data": {
      "text/latex": [
       "$\\displaystyle \\left[\\begin{matrix}6.912 u_{1} + 4.032 u_{2} + 2.016 u_{3} - 1.3368\\\\4.032 u_{1} + 4.032 u_{2} + 2.016 u_{3} - 0.8568\\\\2.016 u_{1} + 2.016 u_{2} + 2.016 u_{3} - 0.4368\\end{matrix}\\right]$"
      ],
      "text/plain": [
       "Matrix([\n",
       "[6.912*u1 + 4.032*u2 + 2.016*u3 - 1.3368],\n",
       "[4.032*u1 + 4.032*u2 + 2.016*u3 - 0.8568],\n",
       "[2.016*u1 + 2.016*u2 + 2.016*u3 - 0.4368]])"
      ]
     },
     "execution_count": 7,
     "metadata": {},
     "output_type": "execute_result"
    }
   ],
   "source": [
    "upper_alpha = (alpha * sp.ones(3)).upper_triangular()\n",
    "W_diag = sp.diag(W, unpack=True)\n",
    "DuLd = 2 * upper_alpha * W_diag * (lower_alpha * u - r + x_0)\n",
    "DuLd"
   ]
  },
  {
   "cell_type": "code",
   "execution_count": 8,
   "metadata": {},
   "outputs": [],
   "source": [
    "Lj = sum(W[i] * (u[i] - u[i-1]) ** 2 for i in range(1, m))"
   ]
  },
  {
   "cell_type": "code",
   "execution_count": 9,
   "metadata": {},
   "outputs": [
    {
     "data": {
      "text/latex": [
       "$\\displaystyle \\left[\\begin{matrix}1.4 u_{1} - 1.4 u_{2}\\\\- 1.4 u_{1} + 2.8 u_{2} - 1.4 u_{3}\\\\- 1.4 u_{2} + 1.4 u_{3}\\end{matrix}\\right]$"
      ],
      "text/plain": [
       "Matrix([\n",
       "[          1.4*u1 - 1.4*u2],\n",
       "[-1.4*u1 + 2.8*u2 - 1.4*u3],\n",
       "[         -1.4*u2 + 1.4*u3]])"
      ]
     },
     "execution_count": 9,
     "metadata": {},
     "output_type": "execute_result"
    }
   ],
   "source": [
    "Lj.diff(u)"
   ]
  },
  {
   "cell_type": "code",
   "execution_count": 10,
   "metadata": {},
   "outputs": [],
   "source": [
    "def DuLjMat(i, j):\n",
    "    if i == j:\n",
    "        if i == 0:\n",
    "            return 2 * W[i + 1]\n",
    "        elif i == m - 1:\n",
    "            return 2 * W[i]\n",
    "        else:\n",
    "            return 2 * (W[i] + W[i + 1])\n",
    "    elif i - 1 == j:\n",
    "        return -2 * W[i]\n",
    "    elif i + 1 == j:\n",
    "        return -2 * W[i + 1] \n",
    "    else:\n",
    "        return 0\n",
    "    \n",
    "Wj = sp.Matrix(3, 3, DuLjMat)"
   ]
  },
  {
   "cell_type": "code",
   "execution_count": 11,
   "metadata": {},
   "outputs": [
    {
     "data": {
      "text/latex": [
       "$\\displaystyle \\left[\\begin{matrix}0.128436014068963\\\\0.0724128683561799\\\\0.0390124908458912\\end{matrix}\\right]$"
      ],
      "text/plain": [
       "Matrix([\n",
       "[ 0.128436014068963],\n",
       "[0.0724128683561799],\n",
       "[0.0390124908458912]])"
      ]
     },
     "execution_count": 11,
     "metadata": {},
     "output_type": "execute_result"
    }
   ],
   "source": [
    "sol = (2 * upper_alpha * W_diag * lower_alpha + Wj).solve(2 * upper_alpha * W_diag * (r - x_0))\n",
    "sol"
   ]
  },
  {
   "cell_type": "code",
   "execution_count": 15,
   "metadata": {},
   "outputs": [
    {
     "data": {
      "text/latex": [
       "$\\displaystyle \\left[\\begin{matrix}1.94289029309402 \\cdot 10^{-16}\\\\2.22044604925031 \\cdot 10^{-16}\\\\5.55111512312578 \\cdot 10^{-17}\\end{matrix}\\right]$"
      ],
      "text/plain": [
       "Matrix([\n",
       "[1.94289029309402e-16],\n",
       "[2.22044604925031e-16],\n",
       "[5.55111512312578e-17]])"
      ]
     },
     "execution_count": 15,
     "metadata": {},
     "output_type": "execute_result"
    }
   ],
   "source": [
    "subs_dict = {u[i]: value for i, value in enumerate(sol)}\n",
    "(Ld + Lj).diff(u).subs(subs_dict)"
   ]
  },
  {
   "cell_type": "code",
   "execution_count": 8,
   "metadata": {},
   "outputs": [],
   "source": [
    "from typing import List, Tuple\n",
    "import numpy as np\n",
    "\n",
    "def optimize_mpc(alpha: float, x_0: float, u_0: float, n: int, plan: List[float], W_d: List[float], W_j: List[float]) -> Tuple[List[float], float]:\n",
    "    '''\n",
    "    Model:\n",
    "        dx = alpha * du\n",
    "        x: state (lataccel)\n",
    "        u: input (steer command)\n",
    "\n",
    "    Params:\n",
    "        alpha: steer to lataccel coefficient\n",
    "        x_0: initial lataccel\n",
    "        u_0: last control\n",
    "        n: size of prediction horizon, same as control horizon\n",
    "        plan: lataccel targets for the length of prediction horizon\n",
    "        W_d: Weights for deviation error\n",
    "        W_j: Weights for jerk error (len n-1)\n",
    "    \n",
    "    Return:\n",
    "        control: optimal control for the control horizon\n",
    "        prediction: predicted future states following the optimal control\n",
    "        obj: objective value for the optimal control\n",
    "    '''\n",
    "\n",
    "    # Solve for minima of objective function using closed form solution to gradient\n",
    "    upper_alpha = np.triu(alpha * np.ones((n, n)))\n",
    "    lower_alpha = np.tril(alpha * np.ones((n, n)))\n",
    "    W_j = np.array(W_j)\n",
    "    d1 = -2 * W_j # Off diagonal of DuJ\n",
    "    d0 = np.zeros(n)\n",
    "    d0[: -1] += 2 * W_j\n",
    "    d0[1: ] += 2 * W_j\n",
    "    DuJ = np.diag(d0) + np.diag(d1, 1) + np.diag(d1, -1)\n",
    "    plan = np.array(plan)\n",
    "    W_d = np.array(W_d)\n",
    "    A = 2 * upper_alpha @ np.diag(W_d) @ lower_alpha + DuJ\n",
    "    b = 2 * upper_alpha @ np.diag(W_d) @ (plan - x_0)\n",
    "    control = np.linalg.solve(A, b)\n",
    "    prediction = x_0 + lower_alpha @ control\n",
    "\n",
    "    L_d = (W_d * (prediction - plan) ** 2).sum()\n",
    "    L_j = (W_j * np.diff(control, n=1) **2).sum()\n",
    "\n",
    "    return control, prediction, L_d, L_j\n"
   ]
  }
 ],
 "metadata": {
  "kernelspec": {
   "display_name": "venv",
   "language": "python",
   "name": "python3"
  },
  "language_info": {
   "codemirror_mode": {
    "name": "ipython",
    "version": 3
   },
   "file_extension": ".py",
   "mimetype": "text/x-python",
   "name": "python",
   "nbconvert_exporter": "python",
   "pygments_lexer": "ipython3",
   "version": "3.10.12"
  }
 },
 "nbformat": 4,
 "nbformat_minor": 2
}
